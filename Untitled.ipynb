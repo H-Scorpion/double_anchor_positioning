{
 "cells": [
  {
   "cell_type": "code",
   "execution_count": 14,
   "id": "c5cf408c",
   "metadata": {},
   "outputs": [],
   "source": [
    "import sympy\n",
    "from IPython.display import display\n",
    "import numpy as np"
   ]
  },
  {
   "cell_type": "markdown",
   "id": "d3afee40",
   "metadata": {},
   "source": [
    "# Origin 2d"
   ]
  },
  {
   "cell_type": "code",
   "execution_count": 19,
   "id": "004764d6",
   "metadata": {},
   "outputs": [
    {
     "name": "stdout",
     "output_type": "stream",
     "text": [
      "f:\n"
     ]
    },
    {
     "data": {
      "text/latex": [
       "$\\displaystyle \\left[\\begin{matrix}v \\cos{\\left(\\psi \\right)} + x\\\\v \\sin{\\left(\\psi \\right)} + y\\\\\\psi\\\\v\\end{matrix}\\right]$"
      ],
      "text/plain": [
       "⎡v⋅cos(ψ) + x⎤\n",
       "⎢            ⎥\n",
       "⎢v⋅sin(ψ) + y⎥\n",
       "⎢            ⎥\n",
       "⎢     ψ      ⎥\n",
       "⎢            ⎥\n",
       "⎣     v      ⎦"
      ]
     },
     "metadata": {},
     "output_type": "display_data"
    },
    {
     "name": "stdout",
     "output_type": "stream",
     "text": [
      "F:\n"
     ]
    },
    {
     "data": {
      "text/latex": [
       "$\\displaystyle \\left[\\begin{matrix}1 & 0 & - v \\sin{\\left(\\psi \\right)} & \\cos{\\left(\\psi \\right)}\\\\0 & 1 & v \\cos{\\left(\\psi \\right)} & \\sin{\\left(\\psi \\right)}\\\\0 & 0 & 1 & 0\\\\0 & 0 & 0 & 1\\end{matrix}\\right]$"
      ],
      "text/plain": [
       "⎡1  0  -v⋅sin(ψ)  cos(ψ)⎤\n",
       "⎢                       ⎥\n",
       "⎢0  1  v⋅cos(ψ)   sin(ψ)⎥\n",
       "⎢                       ⎥\n",
       "⎢0  0      1        0   ⎥\n",
       "⎢                       ⎥\n",
       "⎣0  0      0        1   ⎦"
      ]
     },
     "metadata": {},
     "output_type": "display_data"
    }
   ],
   "source": [
    "from sympy.abc import alpha, x, y, v, w, R, theta, psi, z\n",
    "from sympy import symbols, Matrix\n",
    "sympy.init_printing(use_latex=\"mathjax\", fontsize='16pt')\n",
    "\n",
    "dt = symbols('dt')\n",
    "yaw = psi\n",
    "\n",
    "f = Matrix([[x + v*sympy.cos(yaw)],\n",
    "           [y + v*sympy.sin(yaw)],\n",
    "           [yaw],\n",
    "           [v]])\n",
    "print('f:')\n",
    "display(f)\n",
    "print('F:')\n",
    "F = f.jacobian(Matrix([x, y, yaw, v]))\n",
    "display(F)"
   ]
  },
  {
   "cell_type": "code",
   "execution_count": 16,
   "id": "2c9eaa1a",
   "metadata": {},
   "outputs": [
    {
     "name": "stdout",
     "output_type": "stream",
     "text": [
      "h:\n"
     ]
    },
    {
     "data": {
      "text/latex": [
       "$\\displaystyle \\left[\\begin{matrix}\\sqrt{x^{2} + y^{2}}\\\\\\psi\\end{matrix}\\right]$"
      ],
      "text/plain": [
       "⎡   _________⎤\n",
       "⎢  ╱  2    2 ⎥\n",
       "⎢╲╱  x  + y  ⎥\n",
       "⎢            ⎥\n",
       "⎣     ψ      ⎦"
      ]
     },
     "metadata": {},
     "output_type": "display_data"
    },
    {
     "name": "stdout",
     "output_type": "stream",
     "text": [
      "H:\n"
     ]
    },
    {
     "data": {
      "text/latex": [
       "$\\displaystyle \\left[\\begin{matrix}\\frac{x}{\\sqrt{x^{2} + y^{2}}} & \\frac{y}{\\sqrt{x^{2} + y^{2}}} & 0 & 0\\\\0 & 0 & 1 & 0\\end{matrix}\\right]$"
      ],
      "text/plain": [
       "⎡     x             y            ⎤\n",
       "⎢────────────  ────────────  0  0⎥\n",
       "⎢   _________     _________      ⎥\n",
       "⎢  ╱  2    2     ╱  2    2       ⎥\n",
       "⎢╲╱  x  + y    ╲╱  x  + y        ⎥\n",
       "⎢                                ⎥\n",
       "⎣     0             0        1  0⎦"
      ]
     },
     "metadata": {},
     "output_type": "display_data"
    }
   ],
   "source": [
    "h = sympy.Matrix([sympy.sqrt(x**2 + y**2), yaw])\n",
    "H = h.jacobian(Matrix([x, y, yaw, v]))\n",
    "print('h:')\n",
    "display(h)\n",
    "print('H:')\n",
    "display(H)"
   ]
  },
  {
   "cell_type": "markdown",
   "id": "06674f92",
   "metadata": {},
   "source": [
    "# 3d"
   ]
  },
  {
   "cell_type": "code",
   "execution_count": 21,
   "id": "5299ae93",
   "metadata": {},
   "outputs": [
    {
     "data": {
      "text/latex": [
       "$\\displaystyle \\left[\\begin{matrix}x\\\\y\\\\z\\\\\\psi\\\\\\theta\\\\v\\end{matrix}\\right]$"
      ],
      "text/plain": [
       "⎡x⎤\n",
       "⎢ ⎥\n",
       "⎢y⎥\n",
       "⎢ ⎥\n",
       "⎢z⎥\n",
       "⎢ ⎥\n",
       "⎢ψ⎥\n",
       "⎢ ⎥\n",
       "⎢θ⎥\n",
       "⎢ ⎥\n",
       "⎣v⎦"
      ]
     },
     "metadata": {},
     "output_type": "display_data"
    }
   ],
   "source": [
    "dt = symbols('dt')\n",
    "yaw = psi\n",
    "\n",
    "state = Matrix([x, y, z, yaw, theta, v])\n",
    "display(state)"
   ]
  },
  {
   "cell_type": "code",
   "execution_count": 25,
   "id": "89f9b6d2",
   "metadata": {},
   "outputs": [
    {
     "name": "stdout",
     "output_type": "stream",
     "text": [
      "f:\n"
     ]
    },
    {
     "data": {
      "text/latex": [
       "$\\displaystyle \\left[\\begin{matrix}dt v \\cos{\\left(\\psi \\right)} \\cos{\\left(\\theta \\right)} + x\\\\dt v \\sin{\\left(\\psi \\right)} \\cos{\\left(\\theta \\right)} + y\\\\dt v \\sin{\\left(\\theta \\right)} + z\\\\\\psi\\\\\\theta\\\\v\\end{matrix}\\right]$"
      ],
      "text/plain": [
       "⎡dt⋅v⋅cos(ψ)⋅cos(θ) + x⎤\n",
       "⎢                      ⎥\n",
       "⎢dt⋅v⋅sin(ψ)⋅cos(θ) + y⎥\n",
       "⎢                      ⎥\n",
       "⎢   dt⋅v⋅sin(θ) + z    ⎥\n",
       "⎢                      ⎥\n",
       "⎢          ψ           ⎥\n",
       "⎢                      ⎥\n",
       "⎢          θ           ⎥\n",
       "⎢                      ⎥\n",
       "⎣          v           ⎦"
      ]
     },
     "metadata": {},
     "output_type": "display_data"
    },
    {
     "name": "stdout",
     "output_type": "stream",
     "text": [
      "F:\n"
     ]
    },
    {
     "data": {
      "text/latex": [
       "$\\displaystyle \\left[\\begin{matrix}1 & 0 & 0 & - dt v \\sin{\\left(\\psi \\right)} \\cos{\\left(\\theta \\right)} & - dt v \\sin{\\left(\\theta \\right)} \\cos{\\left(\\psi \\right)} & dt \\cos{\\left(\\psi \\right)} \\cos{\\left(\\theta \\right)}\\\\0 & 1 & 0 & dt v \\cos{\\left(\\psi \\right)} \\cos{\\left(\\theta \\right)} & - dt v \\sin{\\left(\\psi \\right)} \\sin{\\left(\\theta \\right)} & dt \\sin{\\left(\\psi \\right)} \\cos{\\left(\\theta \\right)}\\\\0 & 0 & 1 & 0 & dt v \\cos{\\left(\\theta \\right)} & dt \\sin{\\left(\\theta \\right)}\\\\0 & 0 & 0 & 1 & 0 & 0\\\\0 & 0 & 0 & 0 & 1 & 0\\\\0 & 0 & 0 & 0 & 0 & 1\\end{matrix}\\right]$"
      ],
      "text/plain": [
       "⎡1  0  0  -dt⋅v⋅sin(ψ)⋅cos(θ)  -dt⋅v⋅sin(θ)⋅cos(ψ)  dt⋅cos(ψ)⋅cos(θ)⎤\n",
       "⎢                                                                   ⎥\n",
       "⎢0  1  0  dt⋅v⋅cos(ψ)⋅cos(θ)   -dt⋅v⋅sin(ψ)⋅sin(θ)  dt⋅sin(ψ)⋅cos(θ)⎥\n",
       "⎢                                                                   ⎥\n",
       "⎢0  0  1           0               dt⋅v⋅cos(θ)         dt⋅sin(θ)    ⎥\n",
       "⎢                                                                   ⎥\n",
       "⎢0  0  0           1                    0                  0        ⎥\n",
       "⎢                                                                   ⎥\n",
       "⎢0  0  0           0                    1                  0        ⎥\n",
       "⎢                                                                   ⎥\n",
       "⎣0  0  0           0                    0                  1        ⎦"
      ]
     },
     "metadata": {},
     "output_type": "display_data"
    }
   ],
   "source": [
    "f = Matrix([[x + v*sympy.cos(theta)*sympy.cos(yaw)*dt],\n",
    "           [y + v*sympy.cos(theta)*sympy.sin(yaw)*dt],\n",
    "           [z + v*sympy.sin(theta)*dt],\n",
    "           [yaw],\n",
    "           [theta],\n",
    "           [v]])\n",
    "print('f:')\n",
    "display(f)\n",
    "print('F:')\n",
    "F = f.jacobian(Matrix([x, y, z, yaw, theta, v]))\n",
    "display(F)"
   ]
  },
  {
   "cell_type": "code",
   "execution_count": 26,
   "id": "a3eb42e1",
   "metadata": {},
   "outputs": [
    {
     "name": "stdout",
     "output_type": "stream",
     "text": [
      "h:\n"
     ]
    },
    {
     "data": {
      "text/latex": [
       "$\\displaystyle \\left[\\begin{matrix}\\sqrt{x^{2} + y^{2} + z^{2}}\\\\\\psi\\\\\\theta\\end{matrix}\\right]$"
      ],
      "text/plain": [
       "⎡   ______________⎤\n",
       "⎢  ╱  2    2    2 ⎥\n",
       "⎢╲╱  x  + y  + z  ⎥\n",
       "⎢                 ⎥\n",
       "⎢        ψ        ⎥\n",
       "⎢                 ⎥\n",
       "⎣        θ        ⎦"
      ]
     },
     "metadata": {},
     "output_type": "display_data"
    },
    {
     "name": "stdout",
     "output_type": "stream",
     "text": [
      "H:\n"
     ]
    },
    {
     "data": {
      "text/latex": [
       "$\\displaystyle \\left[\\begin{matrix}\\frac{x}{\\sqrt{x^{2} + y^{2} + z^{2}}} & \\frac{y}{\\sqrt{x^{2} + y^{2} + z^{2}}} & \\frac{z}{\\sqrt{x^{2} + y^{2} + z^{2}}} & 0 & 0 & 0\\\\0 & 0 & 0 & 1 & 0 & 0\\\\0 & 0 & 0 & 0 & 1 & 0\\end{matrix}\\right]$"
      ],
      "text/plain": [
       "⎡        x                  y                  z                 ⎤\n",
       "⎢─────────────────  ─────────────────  ─────────────────  0  0  0⎥\n",
       "⎢   ______________     ______________     ______________         ⎥\n",
       "⎢  ╱  2    2    2     ╱  2    2    2     ╱  2    2    2          ⎥\n",
       "⎢╲╱  x  + y  + z    ╲╱  x  + y  + z    ╲╱  x  + y  + z           ⎥\n",
       "⎢                                                                ⎥\n",
       "⎢        0                  0                  0          1  0  0⎥\n",
       "⎢                                                                ⎥\n",
       "⎣        0                  0                  0          0  1  0⎦"
      ]
     },
     "metadata": {},
     "output_type": "display_data"
    }
   ],
   "source": [
    "h = sympy.Matrix([sympy.sqrt(x**2 + y**2 + z**2), yaw, theta])\n",
    "H = h.jacobian(Matrix([x, y, z, yaw, theta, v]))\n",
    "print('h:')\n",
    "display(h)\n",
    "print('H:')\n",
    "display(H)"
   ]
  },
  {
   "cell_type": "code",
   "execution_count": null,
   "id": "f9b5ee05",
   "metadata": {},
   "outputs": [],
   "source": []
  }
 ],
 "metadata": {
  "kernelspec": {
   "display_name": "Python 3",
   "language": "python",
   "name": "python3"
  },
  "language_info": {
   "codemirror_mode": {
    "name": "ipython",
    "version": 3
   },
   "file_extension": ".py",
   "mimetype": "text/x-python",
   "name": "python",
   "nbconvert_exporter": "python",
   "pygments_lexer": "ipython3",
   "version": "3.8.8"
  }
 },
 "nbformat": 4,
 "nbformat_minor": 5
}
